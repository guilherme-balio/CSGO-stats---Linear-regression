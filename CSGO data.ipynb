{
 "cells": [
  {
   "cell_type": "markdown",
   "id": "02fd0fee",
   "metadata": {},
   "source": [
    "E-sports have been on the rise for years, among these, CSGO have been consistenly one of the most popular games on the scene. The 'rating' of a player aims to quantify it's ability and performance and, as such, it is a very interesting feature for coaches, analists, and enthusiasts.\n",
    "\n",
    "However, the actual formula and methods used to determine this feature are currently not known. This project attemps to create a model that can predict a player rating and, hopefully, output a satisfying estimate for upcoming players (or for your own game analisys!)."
   ]
  },
  {
   "cell_type": "code",
   "execution_count": 902,
   "id": "14e4cfb1",
   "metadata": {
    "code_folding": []
   },
   "outputs": [],
   "source": [
    "# importing libraries\n",
    "\n",
    "import numpy as np\n",
    "import pandas as pd\n",
    "import matplotlib.pyplot as plt\n",
    "import seaborn as sns\n",
    "from sklearn import linear_model\n",
    "from sklearn.model_selection import train_test_split"
   ]
  },
  {
   "cell_type": "markdown",
   "id": "7b74b09e",
   "metadata": {
    "heading_collapsed": true
   },
   "source": [
    "# Importing data"
   ]
  },
  {
   "cell_type": "code",
   "execution_count": 903,
   "id": "36ef30f6",
   "metadata": {
    "hidden": true
   },
   "outputs": [],
   "source": [
    "# reading csv into a dataframe, without the index collumn\n",
    "# csv is available at https://www.kaggle.com/patrasaurabh/csgo-player-and-team-stats\n",
    "\n",
    "df = pd.read_csv(\"player_stats.csv\", index_col=0)"
   ]
  },
  {
   "cell_type": "code",
   "execution_count": 904,
   "id": "ea879267",
   "metadata": {
    "code_folding": [],
    "hidden": true
   },
   "outputs": [
    {
     "data": {
      "text/html": [
       "<div>\n",
       "<style scoped>\n",
       "    .dataframe tbody tr th:only-of-type {\n",
       "        vertical-align: middle;\n",
       "    }\n",
       "\n",
       "    .dataframe tbody tr th {\n",
       "        vertical-align: top;\n",
       "    }\n",
       "\n",
       "    .dataframe thead th {\n",
       "        text-align: right;\n",
       "    }\n",
       "</style>\n",
       "<table border=\"1\" class=\"dataframe\">\n",
       "  <thead>\n",
       "    <tr style=\"text-align: right;\">\n",
       "      <th></th>\n",
       "      <th>name</th>\n",
       "      <th>country</th>\n",
       "      <th>teams</th>\n",
       "      <th>total_maps</th>\n",
       "      <th>total_rounds</th>\n",
       "      <th>kd_diff</th>\n",
       "      <th>kd</th>\n",
       "      <th>rating</th>\n",
       "    </tr>\n",
       "  </thead>\n",
       "  <tbody>\n",
       "    <tr>\n",
       "      <th>0</th>\n",
       "      <td>ZywOo</td>\n",
       "      <td>France</td>\n",
       "      <td>['Vitality', 'aAa']</td>\n",
       "      <td>854</td>\n",
       "      <td>22399</td>\n",
       "      <td>5248</td>\n",
       "      <td>1.38</td>\n",
       "      <td>1.28</td>\n",
       "    </tr>\n",
       "    <tr>\n",
       "      <th>1</th>\n",
       "      <td>s1mple</td>\n",
       "      <td>Ukraine</td>\n",
       "      <td>['Natus Vincere', 'FlipSid3']</td>\n",
       "      <td>1429</td>\n",
       "      <td>37717</td>\n",
       "      <td>8070</td>\n",
       "      <td>1.33</td>\n",
       "      <td>1.25</td>\n",
       "    </tr>\n",
       "    <tr>\n",
       "      <th>2</th>\n",
       "      <td>deko</td>\n",
       "      <td>Russia</td>\n",
       "      <td>['1WIN']</td>\n",
       "      <td>190</td>\n",
       "      <td>5096</td>\n",
       "      <td>1250</td>\n",
       "      <td>1.42</td>\n",
       "      <td>1.24</td>\n",
       "    </tr>\n",
       "    <tr>\n",
       "      <th>3</th>\n",
       "      <td>saffee</td>\n",
       "      <td>Brazil</td>\n",
       "      <td>['paiN']</td>\n",
       "      <td>202</td>\n",
       "      <td>5383</td>\n",
       "      <td>1211</td>\n",
       "      <td>1.37</td>\n",
       "      <td>1.24</td>\n",
       "    </tr>\n",
       "    <tr>\n",
       "      <th>4</th>\n",
       "      <td>sh1ro</td>\n",
       "      <td>Russia</td>\n",
       "      <td>['Gambit', 'Gambit Youngsters']</td>\n",
       "      <td>744</td>\n",
       "      <td>19780</td>\n",
       "      <td>4593</td>\n",
       "      <td>1.43</td>\n",
       "      <td>1.22</td>\n",
       "    </tr>\n",
       "  </tbody>\n",
       "</table>\n",
       "</div>"
      ],
      "text/plain": [
       "     name  country                            teams  total_maps  total_rounds  \\\n",
       "0   ZywOo   France              ['Vitality', 'aAa']         854         22399   \n",
       "1  s1mple  Ukraine    ['Natus Vincere', 'FlipSid3']        1429         37717   \n",
       "2    deko   Russia                         ['1WIN']         190          5096   \n",
       "3  saffee   Brazil                         ['paiN']         202          5383   \n",
       "4   sh1ro   Russia  ['Gambit', 'Gambit Youngsters']         744         19780   \n",
       "\n",
       "   kd_diff    kd  rating  \n",
       "0     5248  1.38    1.28  \n",
       "1     8070  1.33    1.25  \n",
       "2     1250  1.42    1.24  \n",
       "3     1211  1.37    1.24  \n",
       "4     4593  1.43    1.22  "
      ]
     },
     "execution_count": 904,
     "metadata": {},
     "output_type": "execute_result"
    }
   ],
   "source": [
    "# showing first rows\n",
    "\n",
    "df.head()"
   ]
  },
  {
   "cell_type": "markdown",
   "id": "cd295ae6",
   "metadata": {
    "heading_collapsed": true
   },
   "source": [
    "# Data cleaning"
   ]
  },
  {
   "cell_type": "code",
   "execution_count": 905,
   "id": "bc26475d",
   "metadata": {
    "hidden": true
   },
   "outputs": [
    {
     "data": {
      "text/plain": [
       "False"
      ]
     },
     "execution_count": 905,
     "metadata": {},
     "output_type": "execute_result"
    }
   ],
   "source": [
    "df.isnull().values.any()"
   ]
  },
  {
   "cell_type": "markdown",
   "id": "2c641629",
   "metadata": {
    "hidden": true
   },
   "source": [
    "The data is doesn't contain missing values or missing/corrupted labels and does not require data cleaning."
   ]
  },
  {
   "cell_type": "markdown",
   "id": "511e342a",
   "metadata": {},
   "source": [
    "# Exploring the data"
   ]
  },
  {
   "cell_type": "code",
   "execution_count": 906,
   "id": "58f616e6",
   "metadata": {
    "code_folding": []
   },
   "outputs": [
    {
     "data": {
      "text/html": [
       "<div>\n",
       "<style scoped>\n",
       "    .dataframe tbody tr th:only-of-type {\n",
       "        vertical-align: middle;\n",
       "    }\n",
       "\n",
       "    .dataframe tbody tr th {\n",
       "        vertical-align: top;\n",
       "    }\n",
       "\n",
       "    .dataframe thead th {\n",
       "        text-align: right;\n",
       "    }\n",
       "</style>\n",
       "<table border=\"1\" class=\"dataframe\">\n",
       "  <thead>\n",
       "    <tr style=\"text-align: right;\">\n",
       "      <th></th>\n",
       "      <th>name</th>\n",
       "      <th>country</th>\n",
       "      <th>teams</th>\n",
       "      <th>total_maps</th>\n",
       "      <th>total_rounds</th>\n",
       "      <th>kd_diff</th>\n",
       "      <th>kd</th>\n",
       "      <th>rating</th>\n",
       "    </tr>\n",
       "  </thead>\n",
       "  <tbody>\n",
       "    <tr>\n",
       "      <th>0</th>\n",
       "      <td>ZywOo</td>\n",
       "      <td>France</td>\n",
       "      <td>['Vitality', 'aAa']</td>\n",
       "      <td>854</td>\n",
       "      <td>22399</td>\n",
       "      <td>5248</td>\n",
       "      <td>1.38</td>\n",
       "      <td>1.28</td>\n",
       "    </tr>\n",
       "    <tr>\n",
       "      <th>1</th>\n",
       "      <td>s1mple</td>\n",
       "      <td>Ukraine</td>\n",
       "      <td>['Natus Vincere', 'FlipSid3']</td>\n",
       "      <td>1429</td>\n",
       "      <td>37717</td>\n",
       "      <td>8070</td>\n",
       "      <td>1.33</td>\n",
       "      <td>1.25</td>\n",
       "    </tr>\n",
       "    <tr>\n",
       "      <th>2</th>\n",
       "      <td>deko</td>\n",
       "      <td>Russia</td>\n",
       "      <td>['1WIN']</td>\n",
       "      <td>190</td>\n",
       "      <td>5096</td>\n",
       "      <td>1250</td>\n",
       "      <td>1.42</td>\n",
       "      <td>1.24</td>\n",
       "    </tr>\n",
       "    <tr>\n",
       "      <th>3</th>\n",
       "      <td>saffee</td>\n",
       "      <td>Brazil</td>\n",
       "      <td>['paiN']</td>\n",
       "      <td>202</td>\n",
       "      <td>5383</td>\n",
       "      <td>1211</td>\n",
       "      <td>1.37</td>\n",
       "      <td>1.24</td>\n",
       "    </tr>\n",
       "    <tr>\n",
       "      <th>4</th>\n",
       "      <td>sh1ro</td>\n",
       "      <td>Russia</td>\n",
       "      <td>['Gambit', 'Gambit Youngsters']</td>\n",
       "      <td>744</td>\n",
       "      <td>19780</td>\n",
       "      <td>4593</td>\n",
       "      <td>1.43</td>\n",
       "      <td>1.22</td>\n",
       "    </tr>\n",
       "    <tr>\n",
       "      <th>5</th>\n",
       "      <td>m0NESY</td>\n",
       "      <td>Russia</td>\n",
       "      <td>['NAVI Junior']</td>\n",
       "      <td>144</td>\n",
       "      <td>3687</td>\n",
       "      <td>709</td>\n",
       "      <td>1.31</td>\n",
       "      <td>1.21</td>\n",
       "    </tr>\n",
       "    <tr>\n",
       "      <th>6</th>\n",
       "      <td>Kaze</td>\n",
       "      <td>Malaysia</td>\n",
       "      <td>['ViCi', 'Flash', 'MVP.karnal']</td>\n",
       "      <td>784</td>\n",
       "      <td>20459</td>\n",
       "      <td>3900</td>\n",
       "      <td>1.32</td>\n",
       "      <td>1.20</td>\n",
       "    </tr>\n",
       "    <tr>\n",
       "      <th>7</th>\n",
       "      <td>degster</td>\n",
       "      <td>Russia</td>\n",
       "      <td>['Spirit', 'Spirit', 'Espada']</td>\n",
       "      <td>555</td>\n",
       "      <td>14868</td>\n",
       "      <td>2745</td>\n",
       "      <td>1.31</td>\n",
       "      <td>1.19</td>\n",
       "    </tr>\n",
       "    <tr>\n",
       "      <th>8</th>\n",
       "      <td>sterling</td>\n",
       "      <td>New Zealand</td>\n",
       "      <td>['AVANT', 'Dire Wolves', 'Grayhound', 'Legacy'...</td>\n",
       "      <td>702</td>\n",
       "      <td>18010</td>\n",
       "      <td>3532</td>\n",
       "      <td>1.33</td>\n",
       "      <td>1.19</td>\n",
       "    </tr>\n",
       "    <tr>\n",
       "      <th>9</th>\n",
       "      <td>d4v41</td>\n",
       "      <td>Malaysia</td>\n",
       "      <td>['BOOT', 'FrostFire', 'Fire Dragoon', 'BOOT-d[...</td>\n",
       "      <td>308</td>\n",
       "      <td>8005</td>\n",
       "      <td>1358</td>\n",
       "      <td>1.27</td>\n",
       "      <td>1.18</td>\n",
       "    </tr>\n",
       "  </tbody>\n",
       "</table>\n",
       "</div>"
      ],
      "text/plain": [
       "       name      country                                              teams  \\\n",
       "0     ZywOo       France                                ['Vitality', 'aAa']   \n",
       "1    s1mple      Ukraine                      ['Natus Vincere', 'FlipSid3']   \n",
       "2      deko       Russia                                           ['1WIN']   \n",
       "3    saffee       Brazil                                           ['paiN']   \n",
       "4     sh1ro       Russia                    ['Gambit', 'Gambit Youngsters']   \n",
       "5    m0NESY       Russia                                    ['NAVI Junior']   \n",
       "6      Kaze     Malaysia                    ['ViCi', 'Flash', 'MVP.karnal']   \n",
       "7   degster       Russia                     ['Spirit', 'Spirit', 'Espada']   \n",
       "8  sterling  New Zealand  ['AVANT', 'Dire Wolves', 'Grayhound', 'Legacy'...   \n",
       "9     d4v41     Malaysia  ['BOOT', 'FrostFire', 'Fire Dragoon', 'BOOT-d[...   \n",
       "\n",
       "   total_maps  total_rounds  kd_diff    kd  rating  \n",
       "0         854         22399     5248  1.38    1.28  \n",
       "1        1429         37717     8070  1.33    1.25  \n",
       "2         190          5096     1250  1.42    1.24  \n",
       "3         202          5383     1211  1.37    1.24  \n",
       "4         744         19780     4593  1.43    1.22  \n",
       "5         144          3687      709  1.31    1.21  \n",
       "6         784         20459     3900  1.32    1.20  \n",
       "7         555         14868     2745  1.31    1.19  \n",
       "8         702         18010     3532  1.33    1.19  \n",
       "9         308          8005     1358  1.27    1.18  "
      ]
     },
     "execution_count": 906,
     "metadata": {},
     "output_type": "execute_result"
    }
   ],
   "source": [
    "# top 10 players by rating\n",
    "\n",
    "df.head(10)"
   ]
  },
  {
   "cell_type": "markdown",
   "id": "e3a34930",
   "metadata": {},
   "source": [
    "Using 'rating' as a feature of interest, except from 'kd', all other features span large values and would benefit from a normalization for machine learning purposes."
   ]
  },
  {
   "cell_type": "code",
   "execution_count": 907,
   "id": "235c44f3",
   "metadata": {},
   "outputs": [
    {
     "data": {
      "text/html": [
       "<div>\n",
       "<style scoped>\n",
       "    .dataframe tbody tr th:only-of-type {\n",
       "        vertical-align: middle;\n",
       "    }\n",
       "\n",
       "    .dataframe tbody tr th {\n",
       "        vertical-align: top;\n",
       "    }\n",
       "\n",
       "    .dataframe thead th {\n",
       "        text-align: right;\n",
       "    }\n",
       "</style>\n",
       "<table border=\"1\" class=\"dataframe\">\n",
       "  <thead>\n",
       "    <tr style=\"text-align: right;\">\n",
       "      <th></th>\n",
       "      <th>name</th>\n",
       "      <th>country</th>\n",
       "      <th>teams</th>\n",
       "      <th>total_maps</th>\n",
       "      <th>total_rounds</th>\n",
       "      <th>kd_diff</th>\n",
       "      <th>kd</th>\n",
       "      <th>rating</th>\n",
       "    </tr>\n",
       "  </thead>\n",
       "  <tbody>\n",
       "    <tr>\n",
       "      <th>4</th>\n",
       "      <td>sh1ro</td>\n",
       "      <td>Russia</td>\n",
       "      <td>['Gambit', 'Gambit Youngsters']</td>\n",
       "      <td>744</td>\n",
       "      <td>19780</td>\n",
       "      <td>4593</td>\n",
       "      <td>1.43</td>\n",
       "      <td>1.22</td>\n",
       "    </tr>\n",
       "    <tr>\n",
       "      <th>2</th>\n",
       "      <td>deko</td>\n",
       "      <td>Russia</td>\n",
       "      <td>['1WIN']</td>\n",
       "      <td>190</td>\n",
       "      <td>5096</td>\n",
       "      <td>1250</td>\n",
       "      <td>1.42</td>\n",
       "      <td>1.24</td>\n",
       "    </tr>\n",
       "    <tr>\n",
       "      <th>0</th>\n",
       "      <td>ZywOo</td>\n",
       "      <td>France</td>\n",
       "      <td>['Vitality', 'aAa']</td>\n",
       "      <td>854</td>\n",
       "      <td>22399</td>\n",
       "      <td>5248</td>\n",
       "      <td>1.38</td>\n",
       "      <td>1.28</td>\n",
       "    </tr>\n",
       "    <tr>\n",
       "      <th>3</th>\n",
       "      <td>saffee</td>\n",
       "      <td>Brazil</td>\n",
       "      <td>['paiN']</td>\n",
       "      <td>202</td>\n",
       "      <td>5383</td>\n",
       "      <td>1211</td>\n",
       "      <td>1.37</td>\n",
       "      <td>1.24</td>\n",
       "    </tr>\n",
       "    <tr>\n",
       "      <th>1</th>\n",
       "      <td>s1mple</td>\n",
       "      <td>Ukraine</td>\n",
       "      <td>['Natus Vincere', 'FlipSid3']</td>\n",
       "      <td>1429</td>\n",
       "      <td>37717</td>\n",
       "      <td>8070</td>\n",
       "      <td>1.33</td>\n",
       "      <td>1.25</td>\n",
       "    </tr>\n",
       "    <tr>\n",
       "      <th>8</th>\n",
       "      <td>sterling</td>\n",
       "      <td>New Zealand</td>\n",
       "      <td>['AVANT', 'Dire Wolves', 'Grayhound', 'Legacy'...</td>\n",
       "      <td>702</td>\n",
       "      <td>18010</td>\n",
       "      <td>3532</td>\n",
       "      <td>1.33</td>\n",
       "      <td>1.19</td>\n",
       "    </tr>\n",
       "    <tr>\n",
       "      <th>6</th>\n",
       "      <td>Kaze</td>\n",
       "      <td>Malaysia</td>\n",
       "      <td>['ViCi', 'Flash', 'MVP.karnal']</td>\n",
       "      <td>784</td>\n",
       "      <td>20459</td>\n",
       "      <td>3900</td>\n",
       "      <td>1.32</td>\n",
       "      <td>1.20</td>\n",
       "    </tr>\n",
       "    <tr>\n",
       "      <th>5</th>\n",
       "      <td>m0NESY</td>\n",
       "      <td>Russia</td>\n",
       "      <td>['NAVI Junior']</td>\n",
       "      <td>144</td>\n",
       "      <td>3687</td>\n",
       "      <td>709</td>\n",
       "      <td>1.31</td>\n",
       "      <td>1.21</td>\n",
       "    </tr>\n",
       "    <tr>\n",
       "      <th>7</th>\n",
       "      <td>degster</td>\n",
       "      <td>Russia</td>\n",
       "      <td>['Spirit', 'Spirit', 'Espada']</td>\n",
       "      <td>555</td>\n",
       "      <td>14868</td>\n",
       "      <td>2745</td>\n",
       "      <td>1.31</td>\n",
       "      <td>1.19</td>\n",
       "    </tr>\n",
       "    <tr>\n",
       "      <th>9</th>\n",
       "      <td>d4v41</td>\n",
       "      <td>Malaysia</td>\n",
       "      <td>['BOOT', 'FrostFire', 'Fire Dragoon', 'BOOT-d[...</td>\n",
       "      <td>308</td>\n",
       "      <td>8005</td>\n",
       "      <td>1358</td>\n",
       "      <td>1.27</td>\n",
       "      <td>1.18</td>\n",
       "    </tr>\n",
       "  </tbody>\n",
       "</table>\n",
       "</div>"
      ],
      "text/plain": [
       "       name      country                                              teams  \\\n",
       "4     sh1ro       Russia                    ['Gambit', 'Gambit Youngsters']   \n",
       "2      deko       Russia                                           ['1WIN']   \n",
       "0     ZywOo       France                                ['Vitality', 'aAa']   \n",
       "3    saffee       Brazil                                           ['paiN']   \n",
       "1    s1mple      Ukraine                      ['Natus Vincere', 'FlipSid3']   \n",
       "8  sterling  New Zealand  ['AVANT', 'Dire Wolves', 'Grayhound', 'Legacy'...   \n",
       "6      Kaze     Malaysia                    ['ViCi', 'Flash', 'MVP.karnal']   \n",
       "5    m0NESY       Russia                                    ['NAVI Junior']   \n",
       "7   degster       Russia                     ['Spirit', 'Spirit', 'Espada']   \n",
       "9     d4v41     Malaysia  ['BOOT', 'FrostFire', 'Fire Dragoon', 'BOOT-d[...   \n",
       "\n",
       "   total_maps  total_rounds  kd_diff    kd  rating  \n",
       "4         744         19780     4593  1.43    1.22  \n",
       "2         190          5096     1250  1.42    1.24  \n",
       "0         854         22399     5248  1.38    1.28  \n",
       "3         202          5383     1211  1.37    1.24  \n",
       "1        1429         37717     8070  1.33    1.25  \n",
       "8         702         18010     3532  1.33    1.19  \n",
       "6         784         20459     3900  1.32    1.20  \n",
       "5         144          3687      709  1.31    1.21  \n",
       "7         555         14868     2745  1.31    1.19  \n",
       "9         308          8005     1358  1.27    1.18  "
      ]
     },
     "execution_count": 907,
     "metadata": {},
     "output_type": "execute_result"
    }
   ],
   "source": [
    "# top 10 players by kd\n",
    "\n",
    "df.head(10).sort_values('kd', ascending=False)"
   ]
  },
  {
   "cell_type": "code",
   "execution_count": 908,
   "id": "13d9af17",
   "metadata": {},
   "outputs": [
    {
     "data": {
      "text/html": [
       "<div>\n",
       "<style scoped>\n",
       "    .dataframe tbody tr th:only-of-type {\n",
       "        vertical-align: middle;\n",
       "    }\n",
       "\n",
       "    .dataframe tbody tr th {\n",
       "        vertical-align: top;\n",
       "    }\n",
       "\n",
       "    .dataframe thead th {\n",
       "        text-align: right;\n",
       "    }\n",
       "</style>\n",
       "<table border=\"1\" class=\"dataframe\">\n",
       "  <thead>\n",
       "    <tr style=\"text-align: right;\">\n",
       "      <th></th>\n",
       "      <th>total_maps</th>\n",
       "      <th>total_rounds</th>\n",
       "      <th>kd_diff</th>\n",
       "      <th>kd</th>\n",
       "      <th>rating</th>\n",
       "    </tr>\n",
       "  </thead>\n",
       "  <tbody>\n",
       "    <tr>\n",
       "      <th>count</th>\n",
       "      <td>1869.000000</td>\n",
       "      <td>1869.000000</td>\n",
       "      <td>1869.000000</td>\n",
       "      <td>1869.000000</td>\n",
       "      <td>1869.000000</td>\n",
       "    </tr>\n",
       "    <tr>\n",
       "      <th>mean</th>\n",
       "      <td>435.231675</td>\n",
       "      <td>11399.083467</td>\n",
       "      <td>180.254147</td>\n",
       "      <td>0.996726</td>\n",
       "      <td>0.985757</td>\n",
       "    </tr>\n",
       "    <tr>\n",
       "      <th>std</th>\n",
       "      <td>391.291072</td>\n",
       "      <td>10298.045537</td>\n",
       "      <td>991.956591</td>\n",
       "      <td>0.100515</td>\n",
       "      <td>0.075545</td>\n",
       "    </tr>\n",
       "    <tr>\n",
       "      <th>min</th>\n",
       "      <td>100.000000</td>\n",
       "      <td>2348.000000</td>\n",
       "      <td>-6238.000000</td>\n",
       "      <td>0.630000</td>\n",
       "      <td>0.680000</td>\n",
       "    </tr>\n",
       "    <tr>\n",
       "      <th>25%</th>\n",
       "      <td>152.000000</td>\n",
       "      <td>3977.000000</td>\n",
       "      <td>-269.000000</td>\n",
       "      <td>0.930000</td>\n",
       "      <td>0.940000</td>\n",
       "    </tr>\n",
       "    <tr>\n",
       "      <th>50%</th>\n",
       "      <td>271.000000</td>\n",
       "      <td>7076.000000</td>\n",
       "      <td>-32.000000</td>\n",
       "      <td>0.990000</td>\n",
       "      <td>0.990000</td>\n",
       "    </tr>\n",
       "    <tr>\n",
       "      <th>75%</th>\n",
       "      <td>592.000000</td>\n",
       "      <td>15532.000000</td>\n",
       "      <td>352.000000</td>\n",
       "      <td>1.060000</td>\n",
       "      <td>1.030000</td>\n",
       "    </tr>\n",
       "    <tr>\n",
       "      <th>max</th>\n",
       "      <td>2064.000000</td>\n",
       "      <td>54137.000000</td>\n",
       "      <td>8070.000000</td>\n",
       "      <td>1.430000</td>\n",
       "      <td>1.280000</td>\n",
       "    </tr>\n",
       "  </tbody>\n",
       "</table>\n",
       "</div>"
      ],
      "text/plain": [
       "        total_maps  total_rounds      kd_diff           kd       rating\n",
       "count  1869.000000   1869.000000  1869.000000  1869.000000  1869.000000\n",
       "mean    435.231675  11399.083467   180.254147     0.996726     0.985757\n",
       "std     391.291072  10298.045537   991.956591     0.100515     0.075545\n",
       "min     100.000000   2348.000000 -6238.000000     0.630000     0.680000\n",
       "25%     152.000000   3977.000000  -269.000000     0.930000     0.940000\n",
       "50%     271.000000   7076.000000   -32.000000     0.990000     0.990000\n",
       "75%     592.000000  15532.000000   352.000000     1.060000     1.030000\n",
       "max    2064.000000  54137.000000  8070.000000     1.430000     1.280000"
      ]
     },
     "execution_count": 908,
     "metadata": {},
     "output_type": "execute_result"
    }
   ],
   "source": [
    "# quick summary with describe()\n",
    "\n",
    "df.describe()"
   ]
  },
  {
   "cell_type": "code",
   "execution_count": 909,
   "id": "bd438b52",
   "metadata": {},
   "outputs": [
    {
     "data": {
      "text/plain": [
       "<AxesSubplot:xlabel='rating'>"
      ]
     },
     "execution_count": 909,
     "metadata": {},
     "output_type": "execute_result"
    },
    {
     "data": {
      "image/png": "[encoded data removed]",
      "text/plain": [
       "<Figure size 432x288 with 1 Axes>"
      ]
     },
     "metadata": {
      "needs_background": "light"
     },
     "output_type": "display_data"
    }
   ],
   "source": [
    "# boxplot of rating values\n",
    "\n",
    "sns.boxplot(x = df['rating'])"
   ]
  },
  {
   "cell_type": "markdown",
   "id": "8e1a28a2",
   "metadata": {},
   "source": [
    "We can see that 50% of the ratings are between the values 0.94 and 1.03, that is, in this (relatively) small interval there are half of all values."
   ]
  },
  {
   "cell_type": "code",
   "execution_count": 910,
   "id": "c196a4ff",
   "metadata": {},
   "outputs": [
    {
     "data": {
      "text/plain": [
       "<AxesSubplot:xlabel='rating', ylabel='Count'>"
      ]
     },
     "execution_count": 910,
     "metadata": {},
     "output_type": "execute_result"
    },
    {
     "data": {
      "image/png": "[encoded data removed]",
      "text/plain": [
       "<Figure size 1008x504 with 6 Axes>"
      ]
     },
     "metadata": {
      "needs_background": "light"
     },
     "output_type": "display_data"
    }
   ],
   "source": [
    "# Plotting a histogram of the numeric features\n",
    "\n",
    "fig, axs = plt.subplots(2, 3, figsize=(14, 7))\n",
    "\n",
    "sns.histplot(df['total_maps'],kde=True,ax=axs[0, 0])\n",
    "sns.histplot(df['total_rounds'],kde=True,ax=axs[0, 1])\n",
    "sns.histplot(df['kd_diff'],kde=True,ax=axs[1, 0])\n",
    "sns.histplot(df['kd'],kde=True,ax=axs[1, 1])\n",
    "sns.histplot(df['rating'],kde=True,ax=axs[0, 2])"
   ]
  },
  {
   "cell_type": "code",
   "execution_count": 911,
   "id": "192a9072",
   "metadata": {
    "code_folding": [
     0
    ]
   },
   "outputs": [
    {
     "data": {
      "image/png": "[encoded data removed]",
      "text/plain": [
       "<Figure size 864x576 with 2 Axes>"
      ]
     },
     "metadata": {
      "needs_background": "light"
     },
     "output_type": "display_data"
    }
   ],
   "source": [
    "# correlation heatmap of features\n",
    "\n",
    "plt.figure(figsize=(12,8))\n",
    "dataplot = sns.heatmap(df.corr(), cmap=\"turbo\", annot=True)\n",
    "plt.show()"
   ]
  },
  {
   "cell_type": "code",
   "execution_count": 912,
   "id": "5620a392",
   "metadata": {
    "code_folding": []
   },
   "outputs": [
    {
     "data": {
      "text/plain": [
       "<AxesSubplot:xlabel='kd', ylabel='rating'>"
      ]
     },
     "execution_count": 912,
     "metadata": {},
     "output_type": "execute_result"
    },
    {
     "data": {
      "image/png": "[encoded data removed]",
      "text/plain": [
       "<Figure size 432x288 with 1 Axes>"
      ]
     },
     "metadata": {
      "needs_background": "light"
     },
     "output_type": "display_data"
    }
   ],
   "source": [
    "#kd: kill/death, diff: differential\n",
    " \n",
    "df.plot(x='kd', y='rating', kind='scatter')"
   ]
  },
  {
   "cell_type": "markdown",
   "id": "4037a5f3",
   "metadata": {},
   "source": [
    "We can see that 'kd' and 'rating' have a very strong correlation"
   ]
  },
  {
   "cell_type": "markdown",
   "id": "bcd32155",
   "metadata": {},
   "source": [
    "# Feature Engineering"
   ]
  },
  {
   "cell_type": "markdown",
   "id": "4dc91830",
   "metadata": {
    "code_folding": [],
    "collapsed": true
   },
   "source": [
    "total_maps and total_rounds are proportional and have the same correlation to 'rating' so we will use only 'total_maps'"
   ]
  },
  {
   "cell_type": "code",
   "execution_count": 913,
   "id": "0445c668",
   "metadata": {},
   "outputs": [],
   "source": [
    "df = df.drop(['total_rounds'],axis=1)"
   ]
  },
  {
   "cell_type": "markdown",
   "id": "0ff2cd35",
   "metadata": {},
   "source": [
    "Making power transforms and scaling of 'total_maps' given that 'rating' varies between small values (0.68 to 1.28)"
   ]
  },
  {
   "cell_type": "code",
   "execution_count": 914,
   "id": "8c5bb28a",
   "metadata": {},
   "outputs": [],
   "source": [
    "# log and Box-Cox power transforms\n",
    "\n",
    "df['log_total_maps'] = np.log10(df['total_maps'] + 1)\n",
    "\n",
    "from scipy import stats\n",
    "\n",
    "df['bc_total_maps'] = stats.boxcox(df['total_maps'], lmbda=2)"
   ]
  },
  {
   "cell_type": "code",
   "execution_count": 915,
   "id": "9dae2ab1",
   "metadata": {},
   "outputs": [],
   "source": [
    "# min-max scaling\n",
    "from sklearn.preprocessing import MinMaxScaler, StandardScaler\n",
    "\n",
    "min_max_scaler = MinMaxScaler()\n",
    "df[[\"total_maps\"]] = min_max_scaler.fit_transform(df[[\"total_maps\"]])"
   ]
  },
  {
   "cell_type": "code",
   "execution_count": 916,
   "id": "b2b13daf",
   "metadata": {},
   "outputs": [
    {
     "data": {
      "text/plain": [
       "<AxesSubplot:xlabel='bc_total_maps', ylabel='Count'>"
      ]
     },
     "execution_count": 916,
     "metadata": {},
     "output_type": "execute_result"
    },
    {
     "data": {
      "image/png": "[encoded data removed]",
      "text/plain": [
       "<Figure size 432x864 with 3 Axes>"
      ]
     },
     "metadata": {
      "needs_background": "light"
     },
     "output_type": "display_data"
    }
   ],
   "source": [
    "# comparing the histogram of total_maps and the transforms\n",
    "\n",
    "fig, axs = plt.subplots(3, 1, figsize=(6, 12))\n",
    "\n",
    "sns.histplot(df['total_maps'],kde=True,ax=axs[0])\n",
    "sns.histplot(df['log_total_maps'],kde=True,ax=axs[1])\n",
    "sns.histplot(df['bc_total_maps'],kde=True,ax=axs[2])"
   ]
  },
  {
   "cell_type": "markdown",
   "id": "29e4ccbf",
   "metadata": {},
   "source": [
    "We can see that the log transformg gives more weight to values that are not observed often, however the box-cox transform exagerates the difference and gives more weight to values close to zero (that are observed more often) and, therefore, more useful for machine learning purposes."
   ]
  },
  {
   "cell_type": "code",
   "execution_count": 917,
   "id": "996c8016",
   "metadata": {},
   "outputs": [],
   "source": [
    "# Scaling kd_diff for the same reasons listed to total_maps\n",
    "\n",
    "df[[\"kd_diff\"]] = min_max_scaler.fit_transform(df[[\"kd_diff\"]])"
   ]
  },
  {
   "cell_type": "code",
   "execution_count": 918,
   "id": "b5674b00",
   "metadata": {},
   "outputs": [
    {
     "data": {
      "text/plain": [
       "<AxesSubplot:xlabel='kd_diff', ylabel='Count'>"
      ]
     },
     "execution_count": 918,
     "metadata": {},
     "output_type": "execute_result"
    },
    {
     "data": {
      "image/png": "[encoded data removed]",
      "text/plain": [
       "<Figure size 432x288 with 1 Axes>"
      ]
     },
     "metadata": {
      "needs_background": "light"
     },
     "output_type": "display_data"
    }
   ],
   "source": [
    "sns.histplot(df['kd_diff'],kde=True)"
   ]
  },
  {
   "cell_type": "code",
   "execution_count": 919,
   "id": "6862fe46",
   "metadata": {},
   "outputs": [],
   "source": [
    "# Creating a new dataframe to deal with categorical data"
   ]
  },
  {
   "cell_type": "code",
   "execution_count": 920,
   "id": "2acaf546",
   "metadata": {},
   "outputs": [],
   "source": [
    "df2 = df.drop(['country','log_total_maps','total_maps'],axis=1)"
   ]
  },
  {
   "cell_type": "code",
   "execution_count": 921,
   "id": "92593c4b",
   "metadata": {},
   "outputs": [],
   "source": [
    "# Using Dummy Variable Encoding for categorical data (e.g. country and teams) "
   ]
  },
  {
   "cell_type": "code",
   "execution_count": 922,
   "id": "53caeec3",
   "metadata": {},
   "outputs": [],
   "source": [
    "dummy_country = pd.get_dummies(df['country'])"
   ]
  },
  {
   "cell_type": "code",
   "execution_count": 923,
   "id": "60eab5d3",
   "metadata": {},
   "outputs": [],
   "source": [
    "df2 = pd.concat([df2,dummy_country],axis=1)"
   ]
  },
  {
   "cell_type": "code",
   "execution_count": 924,
   "id": "5df4c660",
   "metadata": {},
   "outputs": [],
   "source": [
    "# creating one hot encoding for a collumn that has list values\n",
    "\n",
    "from sklearn.preprocessing import MultiLabelBinarizer\n",
    "\n",
    "mlb = MultiLabelBinarizer(sparse_output=True)\n",
    "df2 = df2.join(\n",
    "            pd.DataFrame.sparse.from_spmatrix(\n",
    "                mlb.fit_transform(df2.pop('teams')),\n",
    "                index=df.index,\n",
    "                columns=mlb.classes_))"
   ]
  },
  {
   "cell_type": "markdown",
   "id": "3b007619",
   "metadata": {},
   "source": [
    "# Implementing Linear Regression Model"
   ]
  },
  {
   "cell_type": "markdown",
   "id": "85d77e6b",
   "metadata": {
    "heading_collapsed": true
   },
   "source": [
    "## a) Model with only given numerical values (with bc_total_maps, kd_diff and kd)"
   ]
  },
  {
   "cell_type": "code",
   "execution_count": 925,
   "id": "300fc623",
   "metadata": {
    "hidden": true
   },
   "outputs": [],
   "source": [
    "X = df[['bc_total_maps','kd_diff','kd']]\n",
    "Y = df[['rating']]"
   ]
  },
  {
   "cell_type": "code",
   "execution_count": 926,
   "id": "eb8d6d8d",
   "metadata": {
    "hidden": true
   },
   "outputs": [],
   "source": [
    "reg = linear_model.LinearRegression()\n",
    "\n",
    "x_train,x_test, y_train,y_test = train_test_split(X,Y,test_size=0.2,random_state=0)"
   ]
  },
  {
   "cell_type": "code",
   "execution_count": 927,
   "id": "def2a016",
   "metadata": {
    "hidden": true
   },
   "outputs": [],
   "source": [
    "reg.fit(x_train,y_train);"
   ]
  },
  {
   "cell_type": "code",
   "execution_count": 928,
   "id": "eb4d27fb",
   "metadata": {
    "hidden": true
   },
   "outputs": [],
   "source": [
    "y_pred = reg.predict(x_test)"
   ]
  },
  {
   "cell_type": "code",
   "execution_count": 929,
   "id": "67da6623",
   "metadata": {
    "code_folding": [],
    "hidden": true
   },
   "outputs": [
    {
     "name": "stdout",
     "output_type": "stream",
     "text": [
      "Mean Absolute Error: 0.01135212511615739\n",
      "Mean Squared Error: 0.00023406550997526866\n",
      "Root Mean Squared Error: 0.01529919965146114\n"
     ]
    }
   ],
   "source": [
    "# printing metrics of the model\n",
    "\n",
    "from sklearn import metrics\n",
    "print('Mean Absolute Error:', metrics.mean_absolute_error(y_test, y_pred))\n",
    "print('Mean Squared Error:', metrics.mean_squared_error(y_test, y_pred))\n",
    "print('Root Mean Squared Error:', np.sqrt(metrics.mean_squared_error(y_test, y_pred)))"
   ]
  },
  {
   "cell_type": "code",
   "execution_count": 930,
   "id": "2ffd1ac9",
   "metadata": {
    "code_folding": [],
    "hidden": true
   },
   "outputs": [
    {
     "name": "stdout",
     "output_type": "stream",
     "text": [
      "0.9640375961698338\n"
     ]
    }
   ],
   "source": [
    "# printing accuracy of the model\n",
    "\n",
    "from sklearn.metrics import accuracy_score\n",
    "\n",
    "a = reg.score(x_test, y_test)\n",
    "print(a)"
   ]
  },
  {
   "cell_type": "markdown",
   "id": "4db847fe",
   "metadata": {
    "heading_collapsed": true
   },
   "source": [
    "## b) Model using numerical and categorical data (aka 'country' and 'team')"
   ]
  },
  {
   "cell_type": "code",
   "execution_count": 931,
   "id": "ee40114c",
   "metadata": {
    "hidden": true
   },
   "outputs": [],
   "source": [
    "X = df2.drop(['rating','name'],axis=1)\n",
    "Y = df2[['rating']]"
   ]
  },
  {
   "cell_type": "code",
   "execution_count": 932,
   "id": "e914001c",
   "metadata": {
    "hidden": true
   },
   "outputs": [],
   "source": [
    "reg = linear_model.LinearRegression()\n",
    "\n",
    "x_train,x_test, y_train,y_test = train_test_split(X,Y,test_size=0.2,random_state=0)"
   ]
  },
  {
   "cell_type": "code",
   "execution_count": 933,
   "id": "3928264f",
   "metadata": {
    "hidden": true
   },
   "outputs": [
    {
     "name": "stderr",
     "output_type": "stream",
     "text": [
      "/home/jetpackbarry/.local/lib/python3.9/site-packages/sklearn/utils/validation.py:572: UserWarning: pandas.DataFrame with sparse columns found.It will be converted to a dense numpy array.\n",
      "  warnings.warn(\n"
     ]
    }
   ],
   "source": [
    "reg.fit(x_train,y_train);"
   ]
  },
  {
   "cell_type": "code",
   "execution_count": 934,
   "id": "3a3417ac",
   "metadata": {
    "hidden": true
   },
   "outputs": [
    {
     "name": "stderr",
     "output_type": "stream",
     "text": [
      "/home/jetpackbarry/.local/lib/python3.9/site-packages/sklearn/utils/validation.py:572: UserWarning: pandas.DataFrame with sparse columns found.It will be converted to a dense numpy array.\n",
      "  warnings.warn(\n"
     ]
    }
   ],
   "source": [
    "y_pred = reg.predict(x_test)"
   ]
  },
  {
   "cell_type": "code",
   "execution_count": 935,
   "id": "4f5359a1",
   "metadata": {
    "code_folding": [],
    "hidden": true
   },
   "outputs": [
    {
     "name": "stdout",
     "output_type": "stream",
     "text": [
      "Mean Absolute Error: 0.011815096417054232\n",
      "Mean Squared Error: 0.0002578873996867567\n",
      "Root Mean Squared Error: 0.016058872927038084\n"
     ]
    }
   ],
   "source": [
    "# printing metrics of the model\n",
    "\n",
    "from sklearn import metrics\n",
    "print('Mean Absolute Error:', metrics.mean_absolute_error(y_test, y_pred))\n",
    "print('Mean Squared Error:', metrics.mean_squared_error(y_test, y_pred))\n",
    "print('Root Mean Squared Error:', np.sqrt(metrics.mean_squared_error(y_test, y_pred)))"
   ]
  },
  {
   "cell_type": "code",
   "execution_count": 936,
   "id": "5b2835b8",
   "metadata": {
    "code_folding": [
     0
    ],
    "hidden": true
   },
   "outputs": [
    {
     "name": "stdout",
     "output_type": "stream",
     "text": [
      "0.9603775421196119\n"
     ]
    },
    {
     "name": "stderr",
     "output_type": "stream",
     "text": [
      "/home/jetpackbarry/.local/lib/python3.9/site-packages/sklearn/utils/validation.py:572: UserWarning: pandas.DataFrame with sparse columns found.It will be converted to a dense numpy array.\n",
      "  warnings.warn(\n"
     ]
    }
   ],
   "source": [
    "# printing accuracy of the model\n",
    "\n",
    "from sklearn.metrics import accuracy_score\n",
    "\n",
    "b = reg.score(x_test, y_test)\n",
    "print(b)"
   ]
  },
  {
   "cell_type": "markdown",
   "id": "97e6c692",
   "metadata": {
    "heading_collapsed": true
   },
   "source": [
    "## c) Model without total_maps and total_rounds"
   ]
  },
  {
   "cell_type": "code",
   "execution_count": 937,
   "id": "7ca10705",
   "metadata": {
    "hidden": true
   },
   "outputs": [],
   "source": [
    "X = df[['kd_diff','kd']]\n",
    "Y = df[['rating']]"
   ]
  },
  {
   "cell_type": "code",
   "execution_count": 938,
   "id": "1ca400c1",
   "metadata": {
    "hidden": true
   },
   "outputs": [],
   "source": [
    "reg = linear_model.LinearRegression()\n",
    "\n",
    "x_train,x_test, y_train,y_test = train_test_split(X,Y,test_size=0.2,random_state=0)"
   ]
  },
  {
   "cell_type": "code",
   "execution_count": 939,
   "id": "92601be3",
   "metadata": {
    "hidden": true
   },
   "outputs": [],
   "source": [
    "reg.fit(x_train,y_train);"
   ]
  },
  {
   "cell_type": "code",
   "execution_count": 940,
   "id": "f58b3718",
   "metadata": {
    "hidden": true
   },
   "outputs": [],
   "source": [
    "y_pred = reg.predict(x_test)"
   ]
  },
  {
   "cell_type": "code",
   "execution_count": 941,
   "id": "cf3e41c2",
   "metadata": {
    "hidden": true
   },
   "outputs": [
    {
     "name": "stdout",
     "output_type": "stream",
     "text": [
      "Mean Absolute Error: 0.01133174514089897\n",
      "Mean Squared Error: 0.00023350679894281156\n",
      "Root Mean Squared Error: 0.015280929256521397\n"
     ]
    }
   ],
   "source": [
    "# printing metrics of the model\n",
    "\n",
    "from sklearn import metrics\n",
    "print('Mean Absolute Error:', metrics.mean_absolute_error(y_test, y_pred))\n",
    "print('Mean Squared Error:', metrics.mean_squared_error(y_test, y_pred))\n",
    "print('Root Mean Squared Error:', np.sqrt(metrics.mean_squared_error(y_test, y_pred)))"
   ]
  },
  {
   "cell_type": "code",
   "execution_count": 942,
   "id": "c8d42d93",
   "metadata": {
    "hidden": true
   },
   "outputs": [
    {
     "name": "stdout",
     "output_type": "stream",
     "text": [
      "0.964123437914633\n"
     ]
    }
   ],
   "source": [
    "# printing accuracy of the model\n",
    "\n",
    "from sklearn.metrics import accuracy_score\n",
    "\n",
    "c = reg.score(x_test, y_test)\n",
    "print(c)"
   ]
  },
  {
   "cell_type": "markdown",
   "id": "da60a64c",
   "metadata": {
    "heading_collapsed": true
   },
   "source": [
    "## d) DummyRegressor for comparison"
   ]
  },
  {
   "cell_type": "code",
   "execution_count": 943,
   "id": "7e8a2bfe",
   "metadata": {
    "hidden": true
   },
   "outputs": [],
   "source": [
    "from sklearn.dummy import DummyRegressor"
   ]
  },
  {
   "cell_type": "code",
   "execution_count": 944,
   "id": "2f16e1a3",
   "metadata": {
    "hidden": true
   },
   "outputs": [],
   "source": [
    "# using the 0.75 quantile as strategy\n",
    "\n",
    "dummy_clf = DummyRegressor(strategy=\"quantile\",quantile=0.75)\n",
    "dummy_clf.fit(x_train, y_train);"
   ]
  },
  {
   "cell_type": "code",
   "execution_count": 945,
   "id": "99818669",
   "metadata": {
    "hidden": true
   },
   "outputs": [],
   "source": [
    "dummy_pred = dummy_clf.predict(x_test)"
   ]
  },
  {
   "cell_type": "code",
   "execution_count": 946,
   "id": "dbd12adc",
   "metadata": {
    "hidden": true
   },
   "outputs": [
    {
     "name": "stdout",
     "output_type": "stream",
     "text": [
      "Mean Absolute Error: 0.07168449197860964\n",
      "Mean Squared Error: 0.008145187165775404\n",
      "Root Mean Squared Error: 0.09025069066647304\n"
     ]
    }
   ],
   "source": [
    "print('Mean Absolute Error:', metrics.mean_absolute_error(y_test, dummy_pred))\n",
    "print('Mean Squared Error:', metrics.mean_squared_error(y_test, dummy_pred))\n",
    "print('Root Mean Squared Error:', np.sqrt(metrics.mean_squared_error(y_test, dummy_pred)))"
   ]
  },
  {
   "cell_type": "code",
   "execution_count": 947,
   "id": "37bf211e",
   "metadata": {
    "hidden": true
   },
   "outputs": [
    {
     "name": "stdout",
     "output_type": "stream",
     "text": [
      "-0.3431663521527053\n"
     ]
    }
   ],
   "source": [
    "d = dummy_clf.score(X,Y)\n",
    "print(d)"
   ]
  },
  {
   "cell_type": "markdown",
   "id": "aaf03bdf",
   "metadata": {},
   "source": [
    "# Comparing the models"
   ]
  },
  {
   "cell_type": "code",
   "execution_count": 948,
   "id": "2b20121e",
   "metadata": {},
   "outputs": [
    {
     "name": "stdout",
     "output_type": "stream",
     "text": [
      "Precision: \n",
      " a) 0.9640375961698338 \n",
      " b) 0.9603775421196119 \n",
      " c) 0.964123437914633 \n",
      " d) -0.3431663521527053\n"
     ]
    }
   ],
   "source": [
    "print('Precision:',\n",
    "     '\\n a)',a,\n",
    "     '\\n b)',b,\n",
    "     '\\n c)',c,\n",
    "     '\\n d)',d)"
   ]
  },
  {
   "cell_type": "markdown",
   "id": "fdfa9fd1",
   "metadata": {},
   "source": [
    "The most precise model only uses kd_diff and kd (model c)."
   ]
  }
 ],
 "metadata": {
  "kernelspec": {
   "display_name": "Python 3 (ipykernel)",
   "language": "python",
   "name": "python3"
  },
  "language_info": {
   "codemirror_mode": {
    "name": "ipython",
    "version": 3
   },
   "file_extension": ".py",
   "mimetype": "text/x-python",
   "name": "python",
   "nbconvert_exporter": "python",
   "pygments_lexer": "ipython3",
   "version": "3.9.6"
  }
 },
 "nbformat": 4,
 "nbformat_minor": 5
}
